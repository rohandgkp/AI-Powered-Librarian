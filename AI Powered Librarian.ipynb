{
  "cells": [
    {
      "cell_type": "markdown",
      "metadata": {
        "id": "w1h0h7VO_44z"
      },
      "source": [
        "## AI-Powered Librarian\n",
        "\n"
      ]
    },
    {
      "cell_type": "code",
      "execution_count": null,
      "metadata": {
        "id": "qPGgIGS4_98t"
      },
      "outputs": [],
      "source": [
        "! pip install openai==0.28 comet-llm --quiet"
      ]
    },
    {
      "cell_type": "code",
      "execution_count": null,
      "metadata": {
        "id": "yUQhjWGL_441"
      },
      "outputs": [],
      "source": [
        "# libraries\n",
        "import openai\n",
        "import os\n",
        "import IPython\n",
        "import comet_llm\n",
        "from comet_llm import Span, end_chain, start_chain\n",
        "\n",
        "# API configuration\n",
        "openai.api_key = \"OPENAI_API_KEY\"\n",
        "\n",
        "COMET_API_KEY = \"COMET_API_KEY\"\n",
        "COMET_WORKSPACE = \"COMET_WORKSPACE\"\n",
        "\n",
        "comet_llm.init(project=\"book-chatbot-evaluation\", api_key=COMET_API_KEY)"
      ]
    },
    {
      "cell_type": "markdown",
      "metadata": {
        "id": "moEjAz9H_441"
      },
      "source": [
        "Here is a helper function to load the results from the OpenAI APIs:"
      ]
    },
    {
      "cell_type": "code",
      "execution_count": null,
      "metadata": {
        "id": "sj0fYjro_442"
      },
      "outputs": [],
      "source": [
        "def get_completion(messages, model=\"gpt-3.5-turbo\", temperature=0, max_tokens=300):\n",
        "    response = openai.ChatCompletion.create(\n",
        "        model=model,\n",
        "        messages=messages,\n",
        "        temperature=temperature,\n",
        "        max_tokens=max_tokens,\n",
        "    )\n",
        "    return response.choices[0].message[\"content\"]"
      ]
    },
    {
      "cell_type": "markdown",
      "metadata": {
        "id": "ZAWwUk0U_442"
      },
      "source": [
        "The following is a list of books which will be added as context in the prompt design in the next step:"
      ]
    },
    {
      "cell_type": "code",
      "execution_count": null,
      "metadata": {
        "id": "zkYEmYLP_442"
      },
      "outputs": [],
      "source": [
        "books = \"\"\"\n",
        "Category: Children's Books\n",
        "Book Title: The Little Blue Engine\n",
        "Price: $6.99\n",
        "Illustrated: Y\n",
        "Popularity: 4/5\n",
        "Summary: A brave little train takes on a challenging journey, teaching children about perseverance and self-belief.\n",
        "\n",
        "Category: Mystery Novels\n",
        "Book Title: Shadows Over Elm Street\n",
        "Price: $8.99\n",
        "Illustrated: N\n",
        "Popularity: 3/5\n",
        "Summary: A detective follows mysterious clues leading to a dark secret buried in a small town.\n",
        "\n",
        "Category: Mystery Novels\n",
        "Book Title: The Venetian Masquerade\n",
        "Price: $7.99\n",
        "Illustrated: N\n",
        "Popularity: 4/5\n",
        "Summary: In the heart of Venice, a masked ball turns to mayhem, and one detective must unmask the truth.\n",
        "\n",
        "Category: Romance Novels\n",
        "Book Title: Moonlit Whispers\n",
        "Price: $12.99\n",
        "Illustrated: N\n",
        "Popularity: 4/5\n",
        "Summary: Two strangers, one chance meeting, and a romance that transcends lifetimes.\n",
        "\n",
        "Category: Romance Novels\n",
        "Book Title: The Cafe by the Sea\n",
        "Price: $10.99\n",
        "Illustrated: N\n",
        "Popularity: 5/5\n",
        "Summary: A city girl finds love and rediscovery in a small coastal town, along with the charms of local life.\n",
        "\n",
        "Category: Romance Novels\n",
        "Book Title: Heartstrings in Tuscany\n",
        "Price: $14.99\n",
        "Illustrated: N\n",
        "Popularity: 4/5\n",
        "Summary: An unexpected journey to Italy leads to a summer of romance, secrets, and vineyard nights.\n",
        "\n",
        "Category: Science Fiction\n",
        "Book Title: Nebula's Edge\n",
        "Price: $9.99\n",
        "Illustrated: N\n",
        "Popularity: 3/5\n",
        "Summary: In a galaxy on the brink of war, one spaceship captain must navigate politics, love, and space pirates.\n",
        "\n",
        "Category: Science Fiction\n",
        "Book Title: Beyond Earth's Echo\n",
        "Price: $11.99\n",
        "Illustrated: Y\n",
        "Popularity: 4/5\n",
        "Summary: Humanity ventures to a new planet, only to find traces of a long-lost alien civilization.\n",
        "\n",
        "Category: Poetry Collections\n",
        "Book Title: Echoes of Midnight\n",
        "Price: $6.99\n",
        "Illustrated: N\n",
        "Popularity: 5/5\n",
        "Summary: A captivating collection of poems about love, loss, and the nuances of the human soul.\n",
        "\n",
        "Category: Poetry Collections\n",
        "Book Title: Sunflowers & Daydreams\n",
        "Price: $5.99\n",
        "Illustrated: Y\n",
        "Popularity: 4/5\n",
        "Summary: Vibrant verses celebrating nature, life's simple joys, and moments of quiet reflection.\n",
        "\n",
        "Category: Historical Fiction\n",
        "Book Title: The Last Empress\n",
        "Price: $13.99\n",
        "Illustrated: N\n",
        "Popularity: 4/5\n",
        "Summary: Set in the final days of the Qing Dynasty, a young woman navigates court intrigue and revolutionary upheaval.\n",
        "\n",
        "Category: Fantasy\n",
        "Book Title: The Enchanted Forest\n",
        "Price: $10.99\n",
        "Illustrated: Y\n",
        "Popularity: 5/5\n",
        "Summary: A magical adventure through an enchanted forest where mythical creatures and ancient spells await.\n",
        "\n",
        "Category: Non-Fiction\n",
        "Book Title: The Quantum Quest\n",
        "Price: $15.99\n",
        "Illustrated: N\n",
        "Popularity: 3/5\n",
        "Summary: An in-depth exploration of quantum physics and its impact on modern science and technology.\n",
        "\n",
        "Category: Biographies\n",
        "Book Title: The Resilient Spirit\n",
        "Price: $12.99\n",
        "Illustrated: N\n",
        "Popularity: 4/5\n",
        "Summary: The inspiring life story of a prominent figure overcoming adversity and achieving greatness.\n",
        "\n",
        "Category: Horror\n",
        "Book Title: The Haunting of Ravenwood Manor\n",
        "Price: $9.99\n",
        "Illustrated: N\n",
        "Popularity: 4/5\n",
        "Summary: A chilling tale of a family who moves into a mansion with a dark history and encounters terrifying supernatural events.\n",
        "\n",
        "Category: Cookbooks\n",
        "Book Title: Culinary Journeys\n",
        "Price: $18.99\n",
        "Illustrated: Y\n",
        "Popularity: 5/5\n",
        "Summary: A collection of diverse recipes from around the world, complete with stunning photographs and culinary tips.\n",
        "\n",
        "Category: Travel Guides\n",
        "Book Title: Wonders of the World\n",
        "Price: $14.99\n",
        "Illustrated: Y\n",
        "Popularity: 4/5\n",
        "Summary: An essential guide to exploring the most breathtaking landmarks and hidden gems across the globe.\n",
        "\n",
        "Category: Graphic Novels\n",
        "Book Title: Chronicles of the Void\n",
        "Price: $11.99\n",
        "Illustrated: Y\n",
        "Popularity: 5/5\n",
        "Summary: A visually stunning graphic novel following a team of intergalactic explorers as they uncover the secrets of a mysterious universe.\n",
        "\n",
        "Category: Self-Help\n",
        "Book Title: The Path to Fulfillment\n",
        "Price: $8.99\n",
        "Illustrated: N\n",
        "Popularity: 4/5\n",
        "Summary: Practical advice and motivational strategies for achieving personal growth and long-term happiness.\n",
        "\n",
        "\"\"\""
      ]
    },
    {
      "cell_type": "markdown",
      "metadata": {
        "id": "JJy00fng_443"
      },
      "source": [
        "There are questions which we will use to test the chatbot:"
      ]
    },
    {
      "cell_type": "code",
      "execution_count": null,
      "metadata": {
        "id": "bqcpXmPo_443"
      },
      "outputs": [],
      "source": [
        "questions = [\n",
        "    \"Do you have science fiction books?\",\n",
        "    \"Do you have any illustrated book options?\",\n",
        "    \"How many different kinds of science fiction books do you have?\",\n",
        "    \"What's the price for the Harry Potter book?\",\n",
        "    \"What are the two most popular books?\",\n",
        "    \"Do you have any books under $7?\",\n",
        "    \"Does any of your science fiction books contain alien characters?\"\n",
        "]"
      ]
    },
    {
      "cell_type": "markdown",
      "metadata": {
        "id": "wptmOeit_443"
      },
      "source": [
        "The code below both retrieves an entire response (via chain-of-thought) and then extracts the final response based on the question asked by the user. For every question, it logs the results from the CoT and the final response using Comet's prompt chains logging functionalities."
      ]
    },
    {
      "cell_type": "code",
      "execution_count": null,
      "metadata": {},
      "outputs": [],
      "source": [
        "chatbot_responses = []\n",
        "\n",
        "# return the final response to the user\n",
        "def get_only_response(response):\n",
        "  messages = [\n",
        "    {\n",
        "      \"role\": \"system\",\n",
        "      \"content\": \"Your task is to extract only the response to the user in the following full chatbot response: {response}\".format(response=response)\n",
        "    }\n",
        "  ]\n",
        "\n",
        "  return get_completion(messages)\n",
        "\n",
        "# loop through the questions and try to answer them using a chain-of-thought prompt\n",
        "for question in questions:\n",
        "  messages=[\n",
        "    {\n",
        "      \"role\": \"system\",\n",
        "      \"content\": \"Your task is to answer questions factually about a book catalogue, provided below and delimited by +++++. The user request is provided here: {request}\\n\\nStep 1: The first step is to check if the user is asking a question related to any type of book (even if that book item is not on the list). If the question is about any type of food, we move on to Step 2 and ignore the rest of Step 1. If the question is not about book, then you send a response: \\\"Sorry! I cannot help with that. Please let me know if you have a question about our book catalogue.\\\"\\n\\nStep 2: In this step, you check that the user question is relevant to any of the items on the book catalogue. You should check that the book item exists in the book catalogue. If it doesn't exist then send a kind response to the user that the item doesn't exist in the catalogue and then include a list of available but similar book items without any other details (e.g., price). The book items available are provided below and delimited by +++++: {book_titles}+++++\\n\\nStep 3: If the item exists in the book catalogue and the user is requesting specific information, provide that relevant information to the user using the book catalogue. Make sure to use a friendly tone and keep the response concise.\\n\\nPerform the following reasoning steps to send a response to the user:\\nStep 1: <Step 1 reasoning>\\nStep 2: <Step 2 reasoning>\\nResponse to the user (only output the final response): <response to user>\".format(request=question, book_titles=books)\n",
        "    }\n",
        "  ]\n",
        "\n",
        "  # get the full response\n",
        "  response = get_completion(messages)\n",
        "\n",
        "  # save responses\n",
        "  chatbot_responses.append(response)\n",
        "\n",
        "  # start chain\n",
        "  start_chain(\n",
        "    inputs={\"question\": question},\n",
        "    api_key=COMET_API_KEY,\n",
        "  )\n",
        "\n",
        "  # store full response\n",
        "  with Span(\n",
        "    category=\"reasoning\",\n",
        "    name=\"chain-of-thought\",\n",
        "    inputs={\"user_question\": question},\n",
        "    ) as span:\n",
        "      span.set_outputs(outputs={\"full_response\": response})\n",
        "\n",
        "  # end chain with the end response after processing it\n",
        "  with Span(\n",
        "    category=\"response-extraction\",\n",
        "    inputs={\n",
        "        \"user_question\": question,\n",
        "        \"full_response\": response,\n",
        "    },\n",
        "  ) as span:\n",
        "    # process response to take out only the response to the user\n",
        "    final_response = get_only_response(response)\n",
        "\n",
        "    span.set_outputs(outputs={\"final_response\": final_response})\n",
        "\n",
        "  end_chain(outputs={\"final_response\": final_response})\n"
      ]
    }
  ],
  "metadata": {
    "colab": {
      "provenance": []
    },
    "kernelspec": {
      "display_name": "comet",
      "language": "python",
      "name": "python3"
    },
    "language_info": {
      "codemirror_mode": {
        "name": "ipython",
        "version": 3
      },
      "file_extension": ".py",
      "mimetype": "text/x-python",
      "name": "python",
      "nbconvert_exporter": "python",
      "pygments_lexer": "ipython3",
      "version": "3.9.17"
    },
    "orig_nbformat": 4
  },
  "nbformat": 4,
  "nbformat_minor": 0
}
